{
 "cells": [
  {
   "cell_type": "code",
   "execution_count": 1,
   "metadata": {},
   "outputs": [],
   "source": [
    "%matplotlib inline"
   ]
  },
  {
   "cell_type": "markdown",
   "metadata": {},
   "source": [
    "\n",
    "UMAP on the MNIST dataset\n",
    "--------------------------------\n",
    "\n",
    "the result will be saved in umap_measure.csv\n",
    "\n",
    "The MNIST database of handwritten digits with 784 features, raw data available at: http://yann.lecun.com/exdb/mnist/. It can be split in a training set of the first 60,000 examples, and a test set of 10,000 examples\n",
    "\n",
    "It is a subset of a larger set available from NIST. The digits have been size-normalized and centered in a fixed-size image. It is a good database for people who want to try learning techniques and pattern recognition methods on real-world data while spending minimal efforts on preprocessing and formatting. The original black and white (bilevel) images from NIST were size normalized to fit in a 20x20 pixel box while preserving their aspect ratio. The resulting images contain grey levels as a result of the anti-aliasing technique used by the normalization algorithm. the images were centered in a 28x28 image by computing the center of mass of the pixels, and translating the image so as to position this point at the center of the 28x28 field.\n",
    "https://www.openml.org/d/554\n",
    "\n",
    "In this code I run with 10,000 sample"
   ]
  },
  {
   "cell_type": "code",
   "execution_count": 2,
   "metadata": {},
   "outputs": [],
   "source": [
    "from sklearn.datasets import fetch_openml\n",
    "# from sklearn.datasets import load_digits\n",
    "mnist = fetch_openml('mnist_784', version=1, cache=True)\n",
    "# mnist = load_digits()\n",
    "import sys \n",
    "import trace \n",
    "import threading\n",
    "from threading import Thread"
   ]
  },
  {
   "cell_type": "code",
   "execution_count": 3,
   "metadata": {},
   "outputs": [
    {
     "name": "stdout",
     "output_type": "stream",
     "text": [
      "14376\n"
     ]
    }
   ],
   "source": [
    "import psutil\n",
    "import os\n",
    "import warnings\n",
    "warnings.filterwarnings('ignore')\n",
    "import glob\n",
    "import os\n",
    "import multiprocessing as mp\n",
    "import collections\n",
    "import sys\n",
    "import subprocess\n",
    "import pandas as pd\n",
    "\n",
    "# Get the process ID of \n",
    "# the current process \n",
    "pid = os.getpid() \n",
    "memFrame = {'rss': [], 'vms': [],'num_page_faults': [],'peak_wset': [],'wset': [],'peak_paged_pool': [],'paged_pool': [],'peak_nonpaged_pool': [],'nonpaged_pool': [],'pagefile': [],'peak_pagefile': [],'private': [],'cpu_times':[],'cpu_percent':[],'io_counters':[],'read_bytes':[],'write_bytes':[]}\n",
    "memf = pd.DataFrame(data=memFrame)\n",
    "  \n",
    "# Print the process ID of \n",
    "# the current process \n",
    "print(pid)  \n",
    "p = psutil.Process(pid)"
   ]
  },
  {
   "cell_type": "code",
   "execution_count": 6,
   "metadata": {},
   "outputs": [],
   "source": [
    "def measure():\n",
    "    info = []\n",
    "#     memoryUse = p.memory_info()[0]/2.**30\n",
    "#     print('memory use:', memoryUse)\n",
    "    io_counters = p.io_counters()\n",
    "    read_bytes = io_counters.read_bytes\n",
    "    write_bytes = io_counters.write_bytes\n",
    "    p.name()  # execute internal routine once collecting multiple info\n",
    "    mem = p.memory_info()\n",
    "    for m in mem:\n",
    "        info.append(m)\n",
    "    info.extend([p.cpu_times(),p.cpu_percent(),io_counters,read_bytes,write_bytes])\n",
    "    df_length = len(memf)\n",
    "    memf.loc[df_length] = info"
   ]
  },
  {
   "cell_type": "code",
   "execution_count": 7,
   "metadata": {},
   "outputs": [],
   "source": [
    "measure()"
   ]
  },
  {
   "cell_type": "code",
   "execution_count": 8,
   "metadata": {},
   "outputs": [],
   "source": [
    "import umap\n",
    "import matplotlib.pyplot as plt\n",
    "import seaborn as sns\n",
    "import psutil\n",
    "from datetime import datetime\n",
    "import pandas as pd\n",
    "import time\n",
    "import os\n",
    "\n",
    "sns.set(context=\"paper\", style=\"white\")\n",
    "\n",
    "reducer = umap.UMAP()\n",
    "embedding = reducer.fit_transform(mnist.data[1:10000])\n",
    "\n"
   ]
  },
  {
   "cell_type": "code",
   "execution_count": 9,
   "metadata": {},
   "outputs": [],
   "source": [
    "measure()"
   ]
  },
  {
   "cell_type": "code",
   "execution_count": 10,
   "metadata": {},
   "outputs": [
    {
     "data": {
      "text/html": [
       "<div>\n",
       "<style scoped>\n",
       "    .dataframe tbody tr th:only-of-type {\n",
       "        vertical-align: middle;\n",
       "    }\n",
       "\n",
       "    .dataframe tbody tr th {\n",
       "        vertical-align: top;\n",
       "    }\n",
       "\n",
       "    .dataframe thead th {\n",
       "        text-align: right;\n",
       "    }\n",
       "</style>\n",
       "<table border=\"1\" class=\"dataframe\">\n",
       "  <thead>\n",
       "    <tr style=\"text-align: right;\">\n",
       "      <th></th>\n",
       "      <th>rss</th>\n",
       "      <th>vms</th>\n",
       "      <th>num_page_faults</th>\n",
       "      <th>peak_wset</th>\n",
       "      <th>wset</th>\n",
       "      <th>peak_paged_pool</th>\n",
       "      <th>paged_pool</th>\n",
       "      <th>peak_nonpaged_pool</th>\n",
       "      <th>nonpaged_pool</th>\n",
       "      <th>pagefile</th>\n",
       "      <th>peak_pagefile</th>\n",
       "      <th>private</th>\n",
       "      <th>cpu_times</th>\n",
       "      <th>cpu_percent</th>\n",
       "      <th>io_counters</th>\n",
       "      <th>read_bytes</th>\n",
       "      <th>write_bytes</th>\n",
       "    </tr>\n",
       "  </thead>\n",
       "  <tbody>\n",
       "    <tr>\n",
       "      <th>0</th>\n",
       "      <td>569196544.0</td>\n",
       "      <td>560680960.0</td>\n",
       "      <td>412779.0</td>\n",
       "      <td>1.123631e+09</td>\n",
       "      <td>569196544.0</td>\n",
       "      <td>666008.0</td>\n",
       "      <td>666008.0</td>\n",
       "      <td>1191600.0</td>\n",
       "      <td>140296.0</td>\n",
       "      <td>560680960.0</td>\n",
       "      <td>1.119846e+09</td>\n",
       "      <td>560680960.0</td>\n",
       "      <td>(23.984375, 1.265625, 0.0, 0.0)</td>\n",
       "      <td>0.0</td>\n",
       "      <td>(4898, 100, 38656985, 180238, 48117, 2126158)</td>\n",
       "      <td>38656985.0</td>\n",
       "      <td>180238.0</td>\n",
       "    </tr>\n",
       "    <tr>\n",
       "      <th>1</th>\n",
       "      <td>769089536.0</td>\n",
       "      <td>776253440.0</td>\n",
       "      <td>509072.0</td>\n",
       "      <td>1.123631e+09</td>\n",
       "      <td>769089536.0</td>\n",
       "      <td>801664.0</td>\n",
       "      <td>801664.0</td>\n",
       "      <td>1191600.0</td>\n",
       "      <td>181680.0</td>\n",
       "      <td>776253440.0</td>\n",
       "      <td>1.119846e+09</td>\n",
       "      <td>776253440.0</td>\n",
       "      <td>(77.015625, 2.015625, 0.0, 0.0)</td>\n",
       "      <td>96.0</td>\n",
       "      <td>(6267, 128, 46659140, 230486, 90736, 3411430)</td>\n",
       "      <td>46659140.0</td>\n",
       "      <td>230486.0</td>\n",
       "    </tr>\n",
       "  </tbody>\n",
       "</table>\n",
       "</div>"
      ],
      "text/plain": [
       "           rss          vms  num_page_faults     peak_wset         wset  \\\n",
       "0  569196544.0  560680960.0         412779.0  1.123631e+09  569196544.0   \n",
       "1  769089536.0  776253440.0         509072.0  1.123631e+09  769089536.0   \n",
       "\n",
       "   peak_paged_pool  paged_pool  peak_nonpaged_pool  nonpaged_pool  \\\n",
       "0         666008.0    666008.0           1191600.0       140296.0   \n",
       "1         801664.0    801664.0           1191600.0       181680.0   \n",
       "\n",
       "      pagefile  peak_pagefile      private                        cpu_times  \\\n",
       "0  560680960.0   1.119846e+09  560680960.0  (23.984375, 1.265625, 0.0, 0.0)   \n",
       "1  776253440.0   1.119846e+09  776253440.0  (77.015625, 2.015625, 0.0, 0.0)   \n",
       "\n",
       "   cpu_percent                                    io_counters  read_bytes  \\\n",
       "0          0.0  (4898, 100, 38656985, 180238, 48117, 2126158)  38656985.0   \n",
       "1         96.0  (6267, 128, 46659140, 230486, 90736, 3411430)  46659140.0   \n",
       "\n",
       "   write_bytes  \n",
       "0     180238.0  \n",
       "1     230486.0  "
      ]
     },
     "execution_count": 10,
     "metadata": {},
     "output_type": "execute_result"
    }
   ],
   "source": [
    "memf"
   ]
  },
  {
   "cell_type": "code",
   "execution_count": 11,
   "metadata": {},
   "outputs": [],
   "source": [
    "memf.to_csv('umap_measure.csv',index=False)"
   ]
  },
  {
   "cell_type": "code",
   "execution_count": null,
   "metadata": {},
   "outputs": [],
   "source": []
  }
 ],
 "metadata": {
  "kernelspec": {
   "display_name": "Python 3",
   "language": "python",
   "name": "python3"
  },
  "language_info": {
   "codemirror_mode": {
    "name": "ipython",
    "version": 3
   },
   "file_extension": ".py",
   "mimetype": "text/x-python",
   "name": "python",
   "nbconvert_exporter": "python",
   "pygments_lexer": "ipython3",
   "version": "3.7.6"
  }
 },
 "nbformat": 4,
 "nbformat_minor": 1
}
