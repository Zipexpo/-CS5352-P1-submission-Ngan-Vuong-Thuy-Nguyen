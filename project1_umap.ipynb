{
 "cells": [
  {
   "cell_type": "code",
   "execution_count": 1,
   "metadata": {},
   "outputs": [],
   "source": [
    "%matplotlib inline"
   ]
  },
  {
   "cell_type": "markdown",
   "metadata": {},
   "source": [
    "\n",
    "UMAP on the MNIST dataset\n",
    "--------------------------------\n",
    "\n",
    "the result will be saved in umap_isomap_measure.csv\n",
    "\n",
    "The MNIST database of handwritten digits with 784 features, raw data available at: http://yann.lecun.com/exdb/mnist/. It can be split in a training set of the first 60,000 examples, and a test set of 10,000 examples\n",
    "\n",
    "It is a subset of a larger set available from NIST. The digits have been size-normalized and centered in a fixed-size image. It is a good database for people who want to try learning techniques and pattern recognition methods on real-world data while spending minimal efforts on preprocessing and formatting. The original black and white (bilevel) images from NIST were size normalized to fit in a 20x20 pixel box while preserving their aspect ratio. The resulting images contain grey levels as a result of the anti-aliasing technique used by the normalization algorithm. the images were centered in a 28x28 image by computing the center of mass of the pixels, and translating the image so as to position this point at the center of the 28x28 field.\n",
    "https://www.openml.org/d/554\n",
    "\n",
    "In this code I run with 10,000 sample"
   ]
  },
  {
   "cell_type": "code",
   "execution_count": 2,
   "metadata": {},
   "outputs": [],
   "source": [
    "from sklearn.datasets import fetch_openml\n",
    "# from sklearn.datasets import load_digits\n",
    "mnist = fetch_openml('mnist_784', version=1, cache=True)\n",
    "# mnist = load_digits()\n",
    "import sys \n",
    "import trace \n",
    "import threading\n",
    "from threading import Thread"
   ]
  },
  {
   "cell_type": "code",
   "execution_count": 3,
   "metadata": {},
   "outputs": [
    {
     "name": "stdout",
     "output_type": "stream",
     "text": [
      "32320\n"
     ]
    }
   ],
   "source": [
    "import psutil\n",
    "import os\n",
    "import warnings\n",
    "warnings.filterwarnings('ignore')\n",
    "import glob\n",
    "import os\n",
    "import multiprocessing as mp\n",
    "import collections\n",
    "import sys\n",
    "import subprocess\n",
    "import pandas as pd\n",
    "\n",
    "# Get the process ID of \n",
    "# the current process \n",
    "pid = os.getpid() \n",
    "memFrame = {'rss': [], 'vms': [],'num_page_faults': [],'peak_wset': [],'wset': [],'peak_paged_pool': [],'paged_pool': [],'peak_nonpaged_pool': [],'nonpaged_pool': [],'pagefile': [],'peak_pagefile': [],'private': [],'cpu_times':[],'cpu_percent':[]}\n",
    "memf = pd.DataFrame(data=memFrame)\n",
    "  \n",
    "# Print the process ID of \n",
    "# the current process \n",
    "print(pid)  \n",
    "p = psutil.Process(pid)"
   ]
  },
  {
   "cell_type": "code",
   "execution_count": 4,
   "metadata": {},
   "outputs": [],
   "source": [
    "def measure():\n",
    "    info = []\n",
    "#     memoryUse = p.memory_info()[0]/2.**30\n",
    "#     print('memory use:', memoryUse)\n",
    "    p.name()  # execute internal routine once collecting multiple info\n",
    "    mem = p.memory_info()\n",
    "    for m in mem:\n",
    "        info.append(m)\n",
    "    info.extend([p.cpu_times(),p.cpu_percent()])\n",
    "    df_length = len(memf)\n",
    "    memf.loc[df_length] = info"
   ]
  },
  {
   "cell_type": "code",
   "execution_count": 5,
   "metadata": {},
   "outputs": [],
   "source": [
    "measure()"
   ]
  },
  {
   "cell_type": "code",
   "execution_count": 6,
   "metadata": {},
   "outputs": [],
   "source": [
    "import umap\n",
    "import matplotlib.pyplot as plt\n",
    "import seaborn as sns\n",
    "import psutil\n",
    "from datetime import datetime\n",
    "import pandas as pd\n",
    "import time\n",
    "import os\n",
    "\n",
    "sns.set(context=\"paper\", style=\"white\")\n",
    "\n",
    "reducer = umap.UMAP()\n",
    "embedding = reducer.fit_transform(mnist.data[1:10000])\n",
    "\n"
   ]
  },
  {
   "cell_type": "code",
   "execution_count": 7,
   "metadata": {},
   "outputs": [],
   "source": [
    "measure()"
   ]
  },
  {
   "cell_type": "code",
   "execution_count": 8,
   "metadata": {},
   "outputs": [
    {
     "data": {
      "text/html": [
       "<div>\n",
       "<style scoped>\n",
       "    .dataframe tbody tr th:only-of-type {\n",
       "        vertical-align: middle;\n",
       "    }\n",
       "\n",
       "    .dataframe tbody tr th {\n",
       "        vertical-align: top;\n",
       "    }\n",
       "\n",
       "    .dataframe thead th {\n",
       "        text-align: right;\n",
       "    }\n",
       "</style>\n",
       "<table border=\"1\" class=\"dataframe\">\n",
       "  <thead>\n",
       "    <tr style=\"text-align: right;\">\n",
       "      <th></th>\n",
       "      <th>rss</th>\n",
       "      <th>vms</th>\n",
       "      <th>num_page_faults</th>\n",
       "      <th>peak_wset</th>\n",
       "      <th>wset</th>\n",
       "      <th>peak_paged_pool</th>\n",
       "      <th>paged_pool</th>\n",
       "      <th>peak_nonpaged_pool</th>\n",
       "      <th>nonpaged_pool</th>\n",
       "      <th>pagefile</th>\n",
       "      <th>peak_pagefile</th>\n",
       "      <th>private</th>\n",
       "      <th>cpu_times</th>\n",
       "      <th>cpu_percent</th>\n",
       "    </tr>\n",
       "  </thead>\n",
       "  <tbody>\n",
       "    <tr>\n",
       "      <th>0</th>\n",
       "      <td>566796288.0</td>\n",
       "      <td>555769856.0</td>\n",
       "      <td>412578.0</td>\n",
       "      <td>1.123545e+09</td>\n",
       "      <td>566796288.0</td>\n",
       "      <td>666008.0</td>\n",
       "      <td>666008.0</td>\n",
       "      <td>1191600.0</td>\n",
       "      <td>140648.0</td>\n",
       "      <td>555769856.0</td>\n",
       "      <td>1.119846e+09</td>\n",
       "      <td>555769856.0</td>\n",
       "      <td>(26.203125, 1.359375, 0.0, 0.0)</td>\n",
       "      <td>0.0</td>\n",
       "    </tr>\n",
       "    <tr>\n",
       "      <th>1</th>\n",
       "      <td>767893504.0</td>\n",
       "      <td>775462912.0</td>\n",
       "      <td>514322.0</td>\n",
       "      <td>1.123545e+09</td>\n",
       "      <td>767893504.0</td>\n",
       "      <td>801664.0</td>\n",
       "      <td>801664.0</td>\n",
       "      <td>1191600.0</td>\n",
       "      <td>181032.0</td>\n",
       "      <td>775462912.0</td>\n",
       "      <td>1.119846e+09</td>\n",
       "      <td>775462912.0</td>\n",
       "      <td>(83.796875, 2.03125, 0.0, 0.0)</td>\n",
       "      <td>101.8</td>\n",
       "    </tr>\n",
       "  </tbody>\n",
       "</table>\n",
       "</div>"
      ],
      "text/plain": [
       "           rss          vms  num_page_faults     peak_wset         wset  \\\n",
       "0  566796288.0  555769856.0         412578.0  1.123545e+09  566796288.0   \n",
       "1  767893504.0  775462912.0         514322.0  1.123545e+09  767893504.0   \n",
       "\n",
       "   peak_paged_pool  paged_pool  peak_nonpaged_pool  nonpaged_pool  \\\n",
       "0         666008.0    666008.0           1191600.0       140648.0   \n",
       "1         801664.0    801664.0           1191600.0       181032.0   \n",
       "\n",
       "      pagefile  peak_pagefile      private                        cpu_times  \\\n",
       "0  555769856.0   1.119846e+09  555769856.0  (26.203125, 1.359375, 0.0, 0.0)   \n",
       "1  775462912.0   1.119846e+09  775462912.0   (83.796875, 2.03125, 0.0, 0.0)   \n",
       "\n",
       "   cpu_percent  \n",
       "0          0.0  \n",
       "1        101.8  "
      ]
     },
     "execution_count": 8,
     "metadata": {},
     "output_type": "execute_result"
    }
   ],
   "source": [
    "memf"
   ]
  },
  {
   "cell_type": "code",
   "execution_count": 9,
   "metadata": {},
   "outputs": [],
   "source": [
    "memf.to_csv('umap_measure.csv',index=False)"
   ]
  }
 ],
 "metadata": {
  "kernelspec": {
   "display_name": "Python 3",
   "language": "python",
   "name": "python3"
  },
  "language_info": {
   "codemirror_mode": {
    "name": "ipython",
    "version": 3
   },
   "file_extension": ".py",
   "mimetype": "text/x-python",
   "name": "python",
   "nbconvert_exporter": "python",
   "pygments_lexer": "ipython3",
   "version": "3.7.6"
  }
 },
 "nbformat": 4,
 "nbformat_minor": 1
}
