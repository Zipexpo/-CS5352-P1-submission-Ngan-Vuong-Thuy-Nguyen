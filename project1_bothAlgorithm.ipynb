{
 "cells": [
  {
   "cell_type": "code",
   "execution_count": 1,
   "metadata": {},
   "outputs": [],
   "source": [
    "%matplotlib inline"
   ]
  },
  {
   "cell_type": "markdown",
   "metadata": {},
   "source": [
    "\n",
    "UMAP and ISOMap on the MNIST dataset\n",
    "--------------------------------\n",
    "\n",
    "the result will be saved in umap_isomap_measure.csv\n",
    "\n",
    "The MNIST database of handwritten digits with 784 features, raw data available at: http://yann.lecun.com/exdb/mnist/. It can be split in a training set of the first 60,000 examples, and a test set of 10,000 examples\n",
    "\n",
    "It is a subset of a larger set available from NIST. The digits have been size-normalized and centered in a fixed-size image. It is a good database for people who want to try learning techniques and pattern recognition methods on real-world data while spending minimal efforts on preprocessing and formatting. The original black and white (bilevel) images from NIST were size normalized to fit in a 20x20 pixel box while preserving their aspect ratio. The resulting images contain grey levels as a result of the anti-aliasing technique used by the normalization algorithm. the images were centered in a 28x28 image by computing the center of mass of the pixels, and translating the image so as to position this point at the center of the 28x28 field.\n",
    "https://www.openml.org/d/554\n",
    "\n",
    "In this code I run with 10,000 sample"
   ]
  },
  {
   "cell_type": "code",
   "execution_count": 2,
   "metadata": {},
   "outputs": [],
   "source": [
    "from sklearn.datasets import fetch_openml\n",
    "# from sklearn.datasets import load_digits\n",
    "mnist = fetch_openml('mnist_784', version=1, cache=True)\n",
    "# mnist = load_digits()\n",
    "import sys \n",
    "import trace \n",
    "import threading\n",
    "from threading import Thread"
   ]
  },
  {
   "cell_type": "code",
   "execution_count": 3,
   "metadata": {},
   "outputs": [
    {
     "name": "stdout",
     "output_type": "stream",
     "text": [
      "21624\n"
     ]
    }
   ],
   "source": [
    "import psutil\n",
    "import os\n",
    "import warnings\n",
    "warnings.filterwarnings('ignore')\n",
    "import glob\n",
    "import os\n",
    "import multiprocessing as mp\n",
    "import collections\n",
    "import sys\n",
    "import subprocess\n",
    "import pandas as pd\n",
    "\n",
    "# Get the process ID of \n",
    "# the current process \n",
    "pid = os.getpid() \n",
    "memFrame = {'rss': [], 'vms': [],'num_page_faults': [],'peak_wset': [],'wset': [],'peak_paged_pool': [],'paged_pool': [],'peak_nonpaged_pool': [],'nonpaged_pool': [],'pagefile': [],'peak_pagefile': [],'private': [],'cpu_times':[],'cpu_percent':[]}\n",
    "memf = pd.DataFrame(data=memFrame)\n",
    "  \n",
    "# Print the process ID of \n",
    "# the current process \n",
    "print(pid)  \n",
    "p = psutil.Process(pid)"
   ]
  },
  {
   "cell_type": "code",
   "execution_count": 4,
   "metadata": {},
   "outputs": [],
   "source": [
    "def measure():\n",
    "    info = []\n",
    "#     memoryUse = p.memory_info()[0]/2.**30\n",
    "#     print('memory use:', memoryUse)\n",
    "    p.name()  # execute internal routine once collecting multiple info\n",
    "    mem = p.memory_info()\n",
    "    for m in mem:\n",
    "        info.append(m)\n",
    "    info.extend([p.cpu_times(),p.cpu_percent()])\n",
    "    df_length = len(memf)\n",
    "    memf.loc[df_length] = info"
   ]
  },
  {
   "cell_type": "code",
   "execution_count": 5,
   "metadata": {},
   "outputs": [],
   "source": [
    "import umap\n",
    "from sklearn.manifold import Isomap\n",
    "import matplotlib.pyplot as plt\n",
    "import seaborn as sns\n",
    "import psutil\n",
    "from datetime import datetime\n",
    "import pandas as pd\n",
    "import time\n",
    "import os\n",
    "\n",
    "sns.set(context=\"paper\", style=\"white\")\n",
    "\n",
    "\n",
    "\n",
    "def umap_f():\n",
    "    reducer = umap.UMAP(n_components=2)\n",
    "    embedding = reducer.fit_transform(mnist.data[1:10000])\n",
    "    print('umap: done')\n",
    "    measure()\n",
    "def isomap_f():\n",
    "    embedding = Isomap(n_components=2)\n",
    "    X_transformed = embedding.fit_transform(mnist.data[1:10000])\n",
    "    print('isomap: done')\n",
    "    measure()"
   ]
  },
  {
   "cell_type": "code",
   "execution_count": 6,
   "metadata": {},
   "outputs": [],
   "source": [
    "measure()"
   ]
  },
  {
   "cell_type": "code",
   "execution_count": 7,
   "metadata": {},
   "outputs": [
    {
     "name": "stdout",
     "output_type": "stream",
     "text": [
      "umap: done\n",
      "isomap: done\n"
     ]
    }
   ],
   "source": [
    "t1=Thread( target=umap_f)\n",
    "t2=Thread( target=isomap_f)\n",
    "\n",
    "t1.start()\n",
    "t2.start()\n",
    "\n",
    "t1.join()\n",
    "t2.join()"
   ]
  },
  {
   "cell_type": "code",
   "execution_count": 8,
   "metadata": {},
   "outputs": [
    {
     "data": {
      "text/html": [
       "<div>\n",
       "<style scoped>\n",
       "    .dataframe tbody tr th:only-of-type {\n",
       "        vertical-align: middle;\n",
       "    }\n",
       "\n",
       "    .dataframe tbody tr th {\n",
       "        vertical-align: top;\n",
       "    }\n",
       "\n",
       "    .dataframe thead th {\n",
       "        text-align: right;\n",
       "    }\n",
       "</style>\n",
       "<table border=\"1\" class=\"dataframe\">\n",
       "  <thead>\n",
       "    <tr style=\"text-align: right;\">\n",
       "      <th></th>\n",
       "      <th>rss</th>\n",
       "      <th>vms</th>\n",
       "      <th>num_page_faults</th>\n",
       "      <th>peak_wset</th>\n",
       "      <th>wset</th>\n",
       "      <th>peak_paged_pool</th>\n",
       "      <th>paged_pool</th>\n",
       "      <th>peak_nonpaged_pool</th>\n",
       "      <th>nonpaged_pool</th>\n",
       "      <th>pagefile</th>\n",
       "      <th>peak_pagefile</th>\n",
       "      <th>private</th>\n",
       "      <th>cpu_times</th>\n",
       "      <th>cpu_percent</th>\n",
       "    </tr>\n",
       "  </thead>\n",
       "  <tbody>\n",
       "    <tr>\n",
       "      <th>0</th>\n",
       "      <td>6.348308e+08</td>\n",
       "      <td>6.050652e+08</td>\n",
       "      <td>429028.0</td>\n",
       "      <td>1.123172e+09</td>\n",
       "      <td>6.348308e+08</td>\n",
       "      <td>796920.0</td>\n",
       "      <td>796920.0</td>\n",
       "      <td>1191600.0</td>\n",
       "      <td>171104.0</td>\n",
       "      <td>6.050652e+08</td>\n",
       "      <td>1.119146e+09</td>\n",
       "      <td>6.050652e+08</td>\n",
       "      <td>(27.609375, 1.640625, 0.0, 0.0)</td>\n",
       "      <td>0.0</td>\n",
       "    </tr>\n",
       "    <tr>\n",
       "      <th>1</th>\n",
       "      <td>9.014559e+08</td>\n",
       "      <td>9.085010e+08</td>\n",
       "      <td>538802.0</td>\n",
       "      <td>1.123172e+09</td>\n",
       "      <td>9.014559e+08</td>\n",
       "      <td>802256.0</td>\n",
       "      <td>802256.0</td>\n",
       "      <td>1235384.0</td>\n",
       "      <td>184288.0</td>\n",
       "      <td>9.085010e+08</td>\n",
       "      <td>1.119146e+09</td>\n",
       "      <td>9.085010e+08</td>\n",
       "      <td>(153.9375, 2.15625, 0.0, 0.0)</td>\n",
       "      <td>197.7</td>\n",
       "    </tr>\n",
       "    <tr>\n",
       "      <th>2</th>\n",
       "      <td>2.338468e+09</td>\n",
       "      <td>2.323280e+09</td>\n",
       "      <td>1323256.0</td>\n",
       "      <td>3.942289e+09</td>\n",
       "      <td>2.338468e+09</td>\n",
       "      <td>802256.0</td>\n",
       "      <td>802256.0</td>\n",
       "      <td>1235384.0</td>\n",
       "      <td>181840.0</td>\n",
       "      <td>2.323280e+09</td>\n",
       "      <td>3.930354e+09</td>\n",
       "      <td>2.323280e+09</td>\n",
       "      <td>(276.78125, 3.53125, 0.0, 0.0)</td>\n",
       "      <td>103.5</td>\n",
       "    </tr>\n",
       "  </tbody>\n",
       "</table>\n",
       "</div>"
      ],
      "text/plain": [
       "            rss           vms  num_page_faults     peak_wset          wset  \\\n",
       "0  6.348308e+08  6.050652e+08         429028.0  1.123172e+09  6.348308e+08   \n",
       "1  9.014559e+08  9.085010e+08         538802.0  1.123172e+09  9.014559e+08   \n",
       "2  2.338468e+09  2.323280e+09        1323256.0  3.942289e+09  2.338468e+09   \n",
       "\n",
       "   peak_paged_pool  paged_pool  peak_nonpaged_pool  nonpaged_pool  \\\n",
       "0         796920.0    796920.0           1191600.0       171104.0   \n",
       "1         802256.0    802256.0           1235384.0       184288.0   \n",
       "2         802256.0    802256.0           1235384.0       181840.0   \n",
       "\n",
       "       pagefile  peak_pagefile       private                        cpu_times  \\\n",
       "0  6.050652e+08   1.119146e+09  6.050652e+08  (27.609375, 1.640625, 0.0, 0.0)   \n",
       "1  9.085010e+08   1.119146e+09  9.085010e+08    (153.9375, 2.15625, 0.0, 0.0)   \n",
       "2  2.323280e+09   3.930354e+09  2.323280e+09   (276.78125, 3.53125, 0.0, 0.0)   \n",
       "\n",
       "   cpu_percent  \n",
       "0          0.0  \n",
       "1        197.7  \n",
       "2        103.5  "
      ]
     },
     "execution_count": 8,
     "metadata": {},
     "output_type": "execute_result"
    }
   ],
   "source": [
    "memf"
   ]
  },
  {
   "cell_type": "code",
   "execution_count": 9,
   "metadata": {},
   "outputs": [],
   "source": [
    "memf.to_csv('umap_isomap_measure.csv',index=False)"
   ]
  }
 ],
 "metadata": {
  "kernelspec": {
   "display_name": "Python 3",
   "language": "python",
   "name": "python3"
  },
  "language_info": {
   "codemirror_mode": {
    "name": "ipython",
    "version": 3
   },
   "file_extension": ".py",
   "mimetype": "text/x-python",
   "name": "python",
   "nbconvert_exporter": "python",
   "pygments_lexer": "ipython3",
   "version": "3.7.6"
  }
 },
 "nbformat": 4,
 "nbformat_minor": 1
}
